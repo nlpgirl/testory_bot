{
  "cells": [
    {
      "cell_type": "code",
      "execution_count": null,
      "id": "2fa1a925-2991-4ac9-8c78-3068d26d01d1",
      "metadata": {
        "cellId": "on3ysaxi3kj14fvntm9t5n",
        "execution": {
          "iopub.execute_input": "2025-07-12T07:29:27.971124Z",
          "iopub.status.busy": "2025-07-12T07:29:27.969514Z",
          "iopub.status.idle": "2025-07-12T07:29:32.796348Z",
          "shell.execute_reply": "2025-07-12T07:29:32.795326Z",
          "shell.execute_reply.started": "2025-07-12T07:29:27.971075Z"
        },
        "tags": [],
        "id": "2fa1a925-2991-4ac9-8c78-3068d26d01d1",
        "outputId": "df9feabb-c7e4-4ce2-fadf-86d69bf8442b"
      },
      "outputs": [
        {
          "name": "stdout",
          "output_type": "stream",
          "text": [
            "\u001b[33mWARNING: Skipping jwt as it is not installed.\u001b[0m\u001b[33m\n",
            "\u001b[0mDefaulting to user installation because normal site-packages is not writeable\n",
            "Requirement already satisfied: PyJWT in /home/jupyter/.local/lib/python3.10/site-packages (2.10.1)\n",
            "\n",
            "\u001b[1m[\u001b[0m\u001b[34;49mnotice\u001b[0m\u001b[1;39;49m]\u001b[0m\u001b[39;49m A new release of pip is available: \u001b[0m\u001b[31;49m23.0.1\u001b[0m\u001b[39;49m -> \u001b[0m\u001b[32;49m25.1.1\u001b[0m\n",
            "\u001b[1m[\u001b[0m\u001b[34;49mnotice\u001b[0m\u001b[1;39;49m]\u001b[0m\u001b[39;49m To update, run: \u001b[0m\u001b[32;49mpython3 -m pip install --upgrade pip\u001b[0m\n"
          ]
        }
      ],
      "source": [
        "# Installing the packages required to request YandexGPT API\n",
        "%pip uninstall jwt\n",
        "%pip install PyJWT -U"
      ]
    },
    {
      "cell_type": "code",
      "execution_count": null,
      "id": "2c584f58-2cd4-4ccd-9154-c61c31b871b3",
      "metadata": {
        "execution": {
          "iopub.execute_input": "2025-07-12T07:29:32.799673Z",
          "iopub.status.busy": "2025-07-12T07:29:32.798751Z",
          "iopub.status.idle": "2025-07-12T07:29:35.823659Z",
          "shell.execute_reply": "2025-07-12T07:29:35.822544Z",
          "shell.execute_reply.started": "2025-07-12T07:29:32.799625Z"
        },
        "tags": [],
        "id": "2c584f58-2cd4-4ccd-9154-c61c31b871b3",
        "outputId": "855e964e-dab4-45d1-f9ba-195d2baf004c"
      },
      "outputs": [
        {
          "name": "stdout",
          "output_type": "stream",
          "text": [
            "Defaulting to user installation because normal site-packages is not writeable\n",
            "Requirement already satisfied: import_ipynb in /home/jupyter/.local/lib/python3.10/site-packages (0.2)\n",
            "Requirement already satisfied: IPython in /usr/local/lib/python3.10/dist-packages (from import_ipynb) (7.34.0)\n",
            "Requirement already satisfied: nbformat in /usr/local/lib/python3.10/dist-packages (from import_ipynb) (5.9.1)\n",
            "Requirement already satisfied: setuptools>=18.5 in /kernel/lib/python3.10/site-packages (from IPython->import_ipynb) (65.5.0)\n",
            "Requirement already satisfied: jedi>=0.16 in /usr/local/lib/python3.10/dist-packages (from IPython->import_ipynb) (0.19.0)\n",
            "Requirement already satisfied: decorator in /usr/local/lib/python3.10/dist-packages (from IPython->import_ipynb) (4.4.2)\n",
            "Requirement already satisfied: pickleshare in /usr/local/lib/python3.10/dist-packages (from IPython->import_ipynb) (0.7.5)\n",
            "Requirement already satisfied: traitlets>=4.2 in /usr/local/lib/python3.10/dist-packages (from IPython->import_ipynb) (5.7.1)\n",
            "Requirement already satisfied: prompt-toolkit!=3.0.0,!=3.0.1,<3.1.0,>=2.0.0 in /usr/local/lib/python3.10/dist-packages (from IPython->import_ipynb) (3.0.39)\n",
            "Requirement already satisfied: pygments in /usr/local/lib/python3.10/dist-packages (from IPython->import_ipynb) (2.14.0)\n",
            "Requirement already satisfied: backcall in /usr/local/lib/python3.10/dist-packages (from IPython->import_ipynb) (0.2.0)\n",
            "Requirement already satisfied: matplotlib-inline in /usr/local/lib/python3.10/dist-packages (from IPython->import_ipynb) (0.1.6)\n",
            "Requirement already satisfied: pexpect>4.3 in /usr/local/lib/python3.10/dist-packages (from IPython->import_ipynb) (4.8.0)\n",
            "Requirement already satisfied: wcwidth in /usr/local/lib/python3.10/dist-packages (from prompt-toolkit!=3.0.0,!=3.0.1,<3.1.0,>=2.0.0->IPython->import_ipynb) (0.2.6)\n",
            "Requirement already satisfied: parso<0.9.0,>=0.8.3 in /usr/local/lib/python3.10/dist-packages (from jedi>=0.16->IPython->import_ipynb) (0.8.3)\n",
            "Requirement already satisfied: ptyprocess>=0.5 in /usr/local/lib/python3.10/dist-packages (from pexpect>4.3->IPython->import_ipynb) (0.7.0)\n",
            "Requirement already satisfied: fastjsonschema in /usr/local/lib/python3.10/dist-packages (from nbformat->import_ipynb) (2.18.0)\n",
            "Requirement already satisfied: jsonschema>=2.6 in /usr/local/lib/python3.10/dist-packages (from nbformat->import_ipynb) (4.3.3)\n",
            "Requirement already satisfied: jupyter-core in /usr/local/lib/python3.10/dist-packages (from nbformat->import_ipynb) (5.3.1)\n",
            "Requirement already satisfied: attrs>=17.4.0 in /usr/local/lib/python3.10/dist-packages (from jsonschema>=2.6->nbformat->import_ipynb) (23.1.0)\n",
            "Requirement already satisfied: pyrsistent!=0.17.0,!=0.17.1,!=0.17.2,>=0.14.0 in /usr/local/lib/python3.10/dist-packages (from jsonschema>=2.6->nbformat->import_ipynb) (0.19.3)\n",
            "Requirement already satisfied: platformdirs>=2.5 in /usr/local/lib/python3.10/dist-packages (from jupyter-core->nbformat->import_ipynb) (3.9.1)\n",
            "\n",
            "\u001b[1m[\u001b[0m\u001b[34;49mnotice\u001b[0m\u001b[1;39;49m]\u001b[0m\u001b[39;49m A new release of pip is available: \u001b[0m\u001b[31;49m23.0.1\u001b[0m\u001b[39;49m -> \u001b[0m\u001b[32;49m25.1.1\u001b[0m\n",
            "\u001b[1m[\u001b[0m\u001b[34;49mnotice\u001b[0m\u001b[1;39;49m]\u001b[0m\u001b[39;49m To update, run: \u001b[0m\u001b[32;49mpython3 -m pip install --upgrade pip\u001b[0m\n"
          ]
        }
      ],
      "source": [
        "%pip install import_ipynb"
      ]
    },
    {
      "cell_type": "code",
      "execution_count": null,
      "id": "d5f3dd85-f2ef-4f5c-aa36-265d7e91bd82",
      "metadata": {
        "cellId": "r7mv26wg35ieg9aw8nytw6",
        "execution": {
          "iopub.execute_input": "2025-07-12T07:29:35.826779Z",
          "iopub.status.busy": "2025-07-12T07:29:35.825965Z",
          "iopub.status.idle": "2025-07-12T07:29:35.849029Z",
          "shell.execute_reply": "2025-07-12T07:29:35.848244Z",
          "shell.execute_reply.started": "2025-07-12T07:29:35.826731Z"
        },
        "tags": [],
        "id": "d5f3dd85-f2ef-4f5c-aa36-265d7e91bd82"
      },
      "outputs": [],
      "source": [
        "import json\n",
        "import os\n",
        "import time\n",
        "\n",
        "import jwt\n",
        "import requests"
      ]
    },
    {
      "cell_type": "code",
      "execution_count": null,
      "id": "3b3276e9-94fe-429a-8866-e8d2d9fa8150",
      "metadata": {
        "cellId": "zxrob3horhtfb3isb0btn",
        "execution": {
          "iopub.execute_input": "2025-07-12T07:29:35.852931Z",
          "iopub.status.busy": "2025-07-12T07:29:35.851842Z",
          "iopub.status.idle": "2025-07-12T07:29:35.863904Z",
          "shell.execute_reply": "2025-07-12T07:29:35.862966Z",
          "shell.execute_reply.started": "2025-07-12T07:29:35.852888Z"
        },
        "tags": [],
        "id": "3b3276e9-94fe-429a-8866-e8d2d9fa8150"
      },
      "outputs": [],
      "source": [
        "# Замените <идентификатор_сервисного_аккаунта> на ваше значение\n",
        "service_account_id = \"your_id\""
      ]
    },
    {
      "cell_type": "markdown",
      "id": "6908e73c-09f5-483f-a753-0d46dad8b4bc",
      "metadata": {
        "cellId": "pfhg9jbcyg8sz1msi8js7i",
        "execution_id": "bc7de8a4-dd51-4ba9-8846-c425c2aeb700",
        "id": "6908e73c-09f5-483f-a753-0d46dad8b4bc"
      },
      "source": [
        "3. [Создайте](https://cloud.yandex.ru/docs/iam/operations/authorized-key/create) авторизованный ключ для сервисного аккаунта.\n",
        "4. Сохраните значение ключа в секрете `private-key`. [Как создать секрет](https://cloud.yandex.ru/docs/datasphere/operations/data/secrets).\n",
        "5. Идентификатор ключа укажите в ячейке ниже."
      ]
    },
    {
      "cell_type": "code",
      "execution_count": null,
      "id": "237b6094-e488-4cc9-b320-2060b8f7dce3",
      "metadata": {
        "cellId": "h5sjrgpu45h4qfltfxkrp8",
        "execution": {
          "iopub.execute_input": "2025-07-12T07:29:35.868013Z",
          "iopub.status.busy": "2025-07-12T07:29:35.865120Z",
          "iopub.status.idle": "2025-07-12T07:29:35.878404Z",
          "shell.execute_reply": "2025-07-12T07:29:35.877479Z",
          "shell.execute_reply.started": "2025-07-12T07:29:35.867967Z"
        },
        "tags": [],
        "id": "237b6094-e488-4cc9-b320-2060b8f7dce3"
      },
      "outputs": [],
      "source": [
        "# Замените <идентификатор_ключа> на ваше значение\n",
        "key_id = \"your_key\"\n",
        "private_key = os.environ['private-key']"
      ]
    },
    {
      "cell_type": "markdown",
      "id": "30b90945-d6e4-4a8b-bc14-5b76c28318da",
      "metadata": {
        "cellId": "byefhlnswfhwon6wvausn",
        "execution_id": "abffaccf-f3eb-4ad9-aa47-c16fe590fbc5",
        "id": "30b90945-d6e4-4a8b-bc14-5b76c28318da"
      },
      "source": [
        "6. Получите IAM-токен для сервисного аккаунта."
      ]
    },
    {
      "cell_type": "code",
      "execution_count": null,
      "id": "61823226-cadb-45e6-8869-a83c14508fed",
      "metadata": {
        "cellId": "1stqgqxtc9jj5w5yji3ycyd",
        "execution": {
          "iopub.execute_input": "2025-07-12T07:29:35.901862Z",
          "iopub.status.busy": "2025-07-12T07:29:35.900752Z",
          "iopub.status.idle": "2025-07-12T07:29:36.068580Z",
          "shell.execute_reply": "2025-07-12T07:29:36.067623Z",
          "shell.execute_reply.started": "2025-07-12T07:29:35.901802Z"
        },
        "tags": [],
        "id": "61823226-cadb-45e6-8869-a83c14508fed"
      },
      "outputs": [],
      "source": [
        "now = int(time.time())\n",
        "payload = {\n",
        "        'aud': 'https://iam.api.cloud.yandex.net/iam/v1/tokens',\n",
        "        'iss': service_account_id,\n",
        "        'iat': now,\n",
        "        'exp': now + 360}\n",
        "\n",
        "# Формирование JWT\n",
        "encoded_token = jwt.encode(\n",
        "    payload,\n",
        "    private_key,\n",
        "    algorithm='PS256',\n",
        "    headers={'kid': key_id})\n",
        "\n",
        "url = 'https://iam.api.cloud.yandex.net/iam/v1/tokens'\n",
        "x = requests.post(url,  headers={'Content-Type': 'application/json'}, json = {'jwt': encoded_token}).json()\n",
        "token = x['iamToken']"
      ]
    },
    {
      "cell_type": "code",
      "execution_count": null,
      "id": "3f769484-45c6-4212-bc3c-b919311b1db3",
      "metadata": {
        "execution": {
          "iopub.execute_input": "2025-07-12T07:29:36.086801Z",
          "iopub.status.busy": "2025-07-12T07:29:36.085840Z",
          "iopub.status.idle": "2025-07-12T07:29:39.130247Z",
          "shell.execute_reply": "2025-07-12T07:29:39.129135Z",
          "shell.execute_reply.started": "2025-07-12T07:29:36.086753Z"
        },
        "tags": [],
        "id": "3f769484-45c6-4212-bc3c-b919311b1db3",
        "outputId": "1f0d2645-e85c-48f0-acb7-8752dc1893a1"
      },
      "outputs": [
        {
          "name": "stdout",
          "output_type": "stream",
          "text": [
            "Defaulting to user installation because normal site-packages is not writeable\n",
            "Requirement already satisfied: pymupdf in /home/jupyter/.local/lib/python3.10/site-packages (1.26.3)\n",
            "Requirement already satisfied: python-docx in /home/jupyter/.local/lib/python3.10/site-packages (1.2.0)\n",
            "Requirement already satisfied: pdfplumber in /home/jupyter/.local/lib/python3.10/site-packages (0.11.7)\n",
            "Requirement already satisfied: lxml>=3.1.0 in /usr/local/lib/python3.10/dist-packages (from python-docx) (4.9.3)\n",
            "Requirement already satisfied: typing_extensions>=4.9.0 in /home/jupyter/.local/lib/python3.10/site-packages (from python-docx) (4.14.1)\n",
            "Requirement already satisfied: pdfminer.six==20250506 in /home/jupyter/.local/lib/python3.10/site-packages (from pdfplumber) (20250506)\n",
            "Requirement already satisfied: Pillow>=9.1 in /usr/local/lib/python3.10/dist-packages (from pdfplumber) (9.4.0)\n",
            "Requirement already satisfied: pypdfium2>=4.18.0 in /home/jupyter/.local/lib/python3.10/site-packages (from pdfplumber) (4.30.1)\n",
            "Requirement already satisfied: charset-normalizer>=2.0.0 in /usr/local/lib/python3.10/dist-packages (from pdfminer.six==20250506->pdfplumber) (2.0.12)\n",
            "Requirement already satisfied: cryptography>=36.0.0 in /home/jupyter/.local/lib/python3.10/site-packages (from pdfminer.six==20250506->pdfplumber) (45.0.5)\n",
            "Requirement already satisfied: cffi>=1.14 in /usr/local/lib/python3.10/dist-packages (from cryptography>=36.0.0->pdfminer.six==20250506->pdfplumber) (1.15.1)\n",
            "Requirement already satisfied: pycparser in /usr/local/lib/python3.10/dist-packages (from cffi>=1.14->cryptography>=36.0.0->pdfminer.six==20250506->pdfplumber) (2.21)\n",
            "\n",
            "\u001b[1m[\u001b[0m\u001b[34;49mnotice\u001b[0m\u001b[1;39;49m]\u001b[0m\u001b[39;49m A new release of pip is available: \u001b[0m\u001b[31;49m23.0.1\u001b[0m\u001b[39;49m -> \u001b[0m\u001b[32;49m25.1.1\u001b[0m\n",
            "\u001b[1m[\u001b[0m\u001b[34;49mnotice\u001b[0m\u001b[1;39;49m]\u001b[0m\u001b[39;49m To update, run: \u001b[0m\u001b[32;49mpython3 -m pip install --upgrade pip\u001b[0m\n"
          ]
        }
      ],
      "source": [
        "%pip install pymupdf python-docx pdfplumber"
      ]
    },
    {
      "cell_type": "code",
      "execution_count": null,
      "id": "0af76286-fee9-45f8-ac15-a502178550ca",
      "metadata": {
        "execution": {
          "iopub.execute_input": "2025-07-12T07:29:39.134928Z",
          "iopub.status.busy": "2025-07-12T07:29:39.133902Z",
          "iopub.status.idle": "2025-07-12T07:29:39.165923Z",
          "shell.execute_reply": "2025-07-12T07:29:39.164926Z",
          "shell.execute_reply.started": "2025-07-12T07:29:39.134890Z"
        },
        "tags": [],
        "id": "0af76286-fee9-45f8-ac15-a502178550ca"
      },
      "outputs": [],
      "source": [
        "import os\n",
        "import json\n",
        "import requests\n",
        "import logging\n",
        "import fitz  # PyMuPDF\n",
        "import docx  # python-docx\n",
        "import re  # Добавляем модуль для регулярных выражений\n",
        "\n",
        "# URL to access the model\n",
        "url = \"https://llm.api.cloud.yandex.net/foundationModels/v1/completion\"\n",
        "file_path = \"/home/jupyter/datasphere/project/test.docx\"\n",
        "\n",
        "# Настройка логирования\n",
        "logging.basicConfig(level=logging.INFO, format='%(asctime)s - %(levelname)s - %(message)s')\n",
        "logger = logging.getLogger(__name__)\n"
      ]
    },
    {
      "cell_type": "code",
      "execution_count": null,
      "id": "093e8c96-46bc-4d10-92cc-5121c75d3ac4",
      "metadata": {
        "execution": {
          "iopub.execute_input": "2025-07-12T07:29:39.168921Z",
          "iopub.status.busy": "2025-07-12T07:29:39.167537Z",
          "iopub.status.idle": "2025-07-12T07:29:39.194919Z",
          "shell.execute_reply": "2025-07-12T07:29:39.194113Z",
          "shell.execute_reply.started": "2025-07-12T07:29:39.168887Z"
        },
        "tags": [],
        "id": "093e8c96-46bc-4d10-92cc-5121c75d3ac4"
      },
      "outputs": [],
      "source": [
        "class TextExtractor:\n",
        "    def __init__(self, optimize=True):\n",
        "        \"\"\"\n",
        "        Инициализация экстрактора текста\n",
        "        :param optimize: Флаг оптимизации текста (нормализация пробелов)\n",
        "        \"\"\"\n",
        "        self.optimize = optimize\n",
        "        logger.info(f\"TextExtractor инициализирован. Оптимизация текста: {'включена' if optimize else 'отключена'}\")\n",
        "\n",
        "    def extract_text(self, file_path: str) -> str:\n",
        "        \"\"\"Основной метод извлечения текста\"\"\"\n",
        "        if not os.path.exists(file_path):\n",
        "            raise FileNotFoundError(f\"Файл не найден: {file_path}\")\n",
        "\n",
        "        ext = os.path.splitext(file_path)[1].lower()\n",
        "        logger.info(f\"Обработка файла {file_path} (тип: {ext})\")\n",
        "\n",
        "        try:\n",
        "            if ext == '.pdf':\n",
        "                text = self._extract_from_pdf(file_path)\n",
        "            elif ext == '.docx':\n",
        "                text = self._extract_from_docx(file_path)\n",
        "            elif ext == '.txt':\n",
        "                text = self._extract_from_txt(file_path)\n",
        "            else:\n",
        "                raise ValueError(f\"Неподдерживаемый формат файла: {ext}\")\n",
        "\n",
        "            # Применяем оптимизацию текста, если включена\n",
        "            if self.optimize:\n",
        "                text = self._optimize_text(text)\n",
        "\n",
        "            # Логируем статистику по тексту\n",
        "            original_length = len(text)\n",
        "            logger.info(f\"Извлечено текста: {original_length} символов\")\n",
        "\n",
        "            return text\n",
        "        except Exception as e:\n",
        "            logger.error(f\"Ошибка при обработке файла: {str(e)}\")\n",
        "            raise\n",
        "\n",
        "    def _extract_from_pdf(self, pdf_path: str) -> str:\n",
        "        \"\"\"Извлечение текста из PDF с помощью PyMuPDF\"\"\"\n",
        "        logger.info(\"Извлечение текста из PDF...\")\n",
        "        text = \"\"\n",
        "        try:\n",
        "            with fitz.open(pdf_path) as doc:\n",
        "                for page in doc:\n",
        "                    # Извлекаем текст страницы\n",
        "                    page_text = page.get_text()\n",
        "                    if page_text.strip():  # Проверяем, есть ли текст на странице\n",
        "                        text += page_text + \"\\n\\n\"\n",
        "            return text\n",
        "        except Exception as e:\n",
        "            logger.error(f\"Ошибка обработки PDF: {str(e)}\")\n",
        "            raise RuntimeError(f\"Не удалось обработать PDF: {str(e)}\")\n",
        "\n",
        "    def _extract_from_docx(self, docx_path: str) -> str:\n",
        "        \"\"\"Извлечение текста из DOCX с помощью python-docx\"\"\"\n",
        "        logger.info(\"Извлечение текста из DOCX...\")\n",
        "        try:\n",
        "            doc = docx.Document(docx_path)\n",
        "            full_text = []\n",
        "            for para in doc.paragraphs:\n",
        "                full_text.append(para.text)\n",
        "\n",
        "            # Обработка таблиц\n",
        "            for table in doc.tables:\n",
        "                for row in table.rows:\n",
        "                    for cell in row.cells:\n",
        "                        full_text.append(cell.text)\n",
        "\n",
        "            return \"\\n\".join(full_text)\n",
        "        except Exception as e:\n",
        "            logger.error(f\"Ошибка обработки DOCX: {str(e)}\")\n",
        "            raise RuntimeError(f\"Не удалось обработать DOCX: {str(e)}\")\n",
        "\n",
        "\n",
        "\n",
        "    def _extract_from_txt(self, txt_path: str) -> str:\n",
        "        \"\"\"Чтение текстовых файлов с обработкой кодировок\"\"\"\n",
        "        logger.info(\"Извлечение текста из TXT...\")\n",
        "        encodings = ['utf-8', 'windows-1251', 'cp1251', 'iso-8859-5', 'koi8-r']\n",
        "        for encoding in encodings:\n",
        "            try:\n",
        "                with open(txt_path, 'r', encoding=encoding) as f:\n",
        "                    return f.read()\n",
        "            except UnicodeDecodeError:\n",
        "                continue\n",
        "            except Exception as e:\n",
        "                logger.error(f\"Ошибка чтения TXT ({encoding}): {str(e)}\")\n",
        "                continue\n",
        "        raise RuntimeError(f\"Не удалось декодировать файл {txt_path} с использованием стандартных кодировок\")\n",
        "\n",
        "    def _optimize_text(self, text: str) -> str:\n",
        "        \"\"\"\n",
        "        Оптимизация текста:\n",
        "        1. Замена последовательностей пробельных символов на один пробел\n",
        "        2. Удаление пробелов в начале и конце текста\n",
        "        \"\"\"\n",
        "        # Заменяем все последовательности пробелов, табуляций, переносов на один пробел\n",
        "        optimized = re.sub(r'\\s+', ' ', text)\n",
        "\n",
        "        # Удаляем пробелы по краям\n",
        "        optimized = optimized.strip()\n",
        "\n",
        "        # Логируем изменения\n",
        "        original_len = len(text)\n",
        "        optimized_len = len(optimized)\n",
        "        reduction = original_len - optimized_len\n",
        "\n",
        "        if reduction > 0:\n",
        "            logger.info(f\"Оптимизация текста: удалено {reduction} лишних символов \"\n",
        "                        f\"({reduction/original_len:.1%} сокращение)\")\n",
        "\n",
        "        return optimized\n",
        "\n"
      ]
    },
    {
      "cell_type": "code",
      "execution_count": null,
      "id": "bd9276c6-ee74-4947-8a03-e61fbe58aa9e",
      "metadata": {
        "execution": {
          "iopub.execute_input": "2025-07-12T07:29:39.197467Z",
          "iopub.status.busy": "2025-07-12T07:29:39.196009Z",
          "iopub.status.idle": "2025-07-12T07:29:39.208131Z",
          "shell.execute_reply": "2025-07-12T07:29:39.207338Z",
          "shell.execute_reply.started": "2025-07-12T07:29:39.197425Z"
        },
        "tags": [],
        "id": "bd9276c6-ee74-4947-8a03-e61fbe58aa9e"
      },
      "outputs": [],
      "source": [
        "import os\n",
        "import requests\n",
        "\n",
        "# URL to access the model\n",
        "url = \"https://llm.api.cloud.yandex.net/foundationModels/v1/completion\"\n",
        "#file_path = \"/home/jupyter/datasphere/project/sent_files/test_doc.txt\"\n",
        "\n",
        "# 2. Чтение содержимого файла\n",
        "#with open(file_path, 'r', encoding='utf-8') as file:\n",
        "#    file_content = file.read()"
      ]
    },
    {
      "cell_type": "code",
      "execution_count": null,
      "id": "9f2957fc-9980-4396-a7b2-8811508f30a0",
      "metadata": {
        "execution": {
          "iopub.execute_input": "2025-07-12T07:29:39.211145Z",
          "iopub.status.busy": "2025-07-12T07:29:39.209846Z",
          "iopub.status.idle": "2025-07-12T07:29:39.237061Z",
          "shell.execute_reply": "2025-07-12T07:29:39.236124Z",
          "shell.execute_reply.started": "2025-07-12T07:29:39.211090Z"
        },
        "tags": [],
        "id": "9f2957fc-9980-4396-a7b2-8811508f30a0"
      },
      "outputs": [],
      "source": [
        "def parse_text(text):\n",
        "    blocks = text.strip().split(\"EOQ\")\n",
        "    questions = []\n",
        "\n",
        "    for block in blocks:\n",
        "        block = block.strip()\n",
        "        if not block:\n",
        "            continue\n",
        "        if block.startswith(\"BOQ\"):\n",
        "            block = block[3:].strip()\n",
        "\n",
        "        lines = [line.strip() for line in block.splitlines() if line.strip()]\n",
        "        if not lines:\n",
        "            continue\n",
        "\n",
        "        # Обработка номера и вопроса\n",
        "        first_line = lines[0]\n",
        "        if '.' not in first_line:\n",
        "            continue\n",
        "        num_part, q_text = first_line.split('.', 1)\n",
        "        try:\n",
        "            num = int(num_part.strip())\n",
        "        except:\n",
        "            num = num_part.strip()\n",
        "        question_text = q_text.strip()\n",
        "\n",
        "        # Извлечение вариантов ответов\n",
        "        options = {}\n",
        "        idx = 1\n",
        "        expected_letters = ['A', 'B', 'C', 'D']\n",
        "\n",
        "        for letter in expected_letters:\n",
        "            if idx >= len(lines):\n",
        "                break\n",
        "            line = lines[idx]\n",
        "            if line.startswith(f\"{letter})\"):\n",
        "                option_text = line.split(')', 1)[1].strip()\n",
        "                options[letter] = option_text\n",
        "                idx += 1\n",
        "            else:\n",
        "                break\n",
        "\n",
        "        # Поиск правильного ответа\n",
        "        answer = None\n",
        "        while idx < len(lines):\n",
        "            if lines[idx].startswith(\"Answer:\"):\n",
        "                ans_part = lines[idx].split(':', 1)[1].strip()\n",
        "                if ans_part in expected_letters:\n",
        "                    answer = ans_part\n",
        "                idx += 1\n",
        "                break\n",
        "            idx += 1\n",
        "\n",
        "        # Извлечение объяснения\n",
        "        explanation_lines = []\n",
        "        while idx < len(lines):\n",
        "            if lines[idx].startswith(\"Explanation:\"):\n",
        "                expl_part = lines[idx].split(':', 1)[1].strip()\n",
        "                if expl_part:\n",
        "                    explanation_lines.append(expl_part)\n",
        "                idx += 1\n",
        "                break\n",
        "            idx += 1\n",
        "\n",
        "        while idx < len(lines):\n",
        "            explanation_lines.append(lines[idx])\n",
        "            idx += 1\n",
        "\n",
        "        explanation_text = \"\\n\".join(explanation_lines)\n",
        "\n",
        "        # Формирование словаря вопроса\n",
        "        question_dict = {\n",
        "            \"number\": num,\n",
        "            \"question\": question_text,\n",
        "            \"options\": options,\n",
        "            \"answer\": answer,\n",
        "            \"explanation\": explanation_text\n",
        "        }\n",
        "        questions.append(question_dict)\n",
        "\n",
        "    return {\"questions\": questions}"
      ]
    },
    {
      "cell_type": "code",
      "execution_count": null,
      "id": "ad7e7d73-496e-4fe0-b269-10e46a61251d",
      "metadata": {
        "execution": {
          "iopub.execute_input": "2025-07-12T07:29:39.240963Z",
          "iopub.status.busy": "2025-07-12T07:29:39.239397Z",
          "iopub.status.idle": "2025-07-12T07:29:39.254767Z",
          "shell.execute_reply": "2025-07-12T07:29:39.253873Z",
          "shell.execute_reply.started": "2025-07-12T07:29:39.240923Z"
        },
        "tags": [],
        "id": "ad7e7d73-496e-4fe0-b269-10e46a61251d"
      },
      "outputs": [],
      "source": [
        "%store -r num_questions\n",
        "#принимаем количество вопросов от бота для препода\n",
        "#import import_ipynb"
      ]
    },
    {
      "cell_type": "code",
      "execution_count": null,
      "id": "dea15104-a7be-49d7-89c5-140a8f658f4d",
      "metadata": {
        "execution": {
          "iopub.execute_input": "2025-07-12T07:29:39.257457Z",
          "iopub.status.busy": "2025-07-12T07:29:39.256024Z",
          "iopub.status.idle": "2025-07-12T07:29:39.268013Z",
          "shell.execute_reply": "2025-07-12T07:29:39.267119Z",
          "shell.execute_reply.started": "2025-07-12T07:29:39.257416Z"
        },
        "tags": [],
        "id": "dea15104-a7be-49d7-89c5-140a8f658f4d"
      },
      "outputs": [],
      "source": [
        "num_questions = -1"
      ]
    },
    {
      "cell_type": "code",
      "execution_count": null,
      "id": "8645d336-9188-478f-91da-412ecf441a18",
      "metadata": {
        "execution": {
          "iopub.execute_input": "2025-07-12T07:29:39.271519Z",
          "iopub.status.busy": "2025-07-12T07:29:39.270321Z",
          "iopub.status.idle": "2025-07-12T07:29:39.292538Z",
          "shell.execute_reply": "2025-07-12T07:29:39.291525Z",
          "shell.execute_reply.started": "2025-07-12T07:29:39.271479Z"
        },
        "tags": [],
        "id": "8645d336-9188-478f-91da-412ecf441a18"
      },
      "outputs": [],
      "source": [
        "extracted_text=''\n",
        "def generate_test(file_name, num):\n",
        "    global num_questions\n",
        "    num_questions = num\n",
        "    # ?поменять ф-ию, чтобы она принимала путь к файлу любого типа\n",
        "    UPLOAD_FOLDER = \"/home/jupyter/datasphere/project/teachers files\"\n",
        "    path = os.path.join(UPLOAD_FOLDER, file_name)\n",
        "    extractor = TextExtractor()\n",
        "    extracted_text = extractor.extract_text(path)\n",
        "\n",
        "    # Формирование системного промпта с содержимым файла\n",
        "    system_prompt = f\"\"\"**Роль:** Ты — опытный преподаватель и эксперт по предмету, представленному в текстовом документе. Твоя задача — создать содержательный тест для проверки глубокого понимания ключевых аспектов документа.\n",
        "\n",
        "    **Инструкция:**\n",
        "\n",
        "    1.  **Тщательный анализ:** Внимательно прочти и проанализируй предоставленный ниже текстовый документ.\n",
        "    2.  **Выделение сути:** Определи {num_questions} *самых важных и существенных* тем, концепций, аргументов, принципов или фактов, которые являются **основополагающими** для понимания всего документа. Сосредоточься на глубине, а не на количестве деталей. Избегай тривиальных или малозначимых моментов.\n",
        "    3.  **Генерация теста:** На основе выделенных ключевых моментов создай **ровно {num_questions} вопросов** с множественным выбором (multiple choice). Каждый вопрос должен иметь **ровно 4 варианта ответа** и **ровно 1 правильный ответ**.\n",
        "        *   **Качество вопросов:**\n",
        "            *   Каждый вопрос должен напрямую относиться к **одному из выявленных важных моментов**.\n",
        "            *   Вопросы должны проверять **понимание сути, концепций, взаимосвязей или критических выводов**, а не просто механическое запоминание мелких деталей.\n",
        "            *   Формулируй вопросы четко, однозначно и грамотно.\n",
        "        *   **Варианты ответов:**\n",
        "            *   Только **один** вариант должен быть абсолютно правильным.\n",
        "            *   Остальные три варианта (дистракторы) должны быть **правдоподобными, но ошибочными**. Они должны отражать типичные заблуждения, неполное понимание или логические ошибки, которые может допустить человек, не до конца усвоивший материал.\n",
        "            *   Избегай дистракторов, которые явно нелепы или не имеют отношения к вопросу.\n",
        "    4.  **Формат вывода:**\n",
        "        *   Выведи **только** готовый тест.\n",
        "        *   Пронумеруй вопросы от 1 до {num_questions}.\n",
        "        *   Для каждого вопроса перечисли 4 варианта ответа, обозначив их буквами **A, B, C, D**. Это очень важно.\n",
        "        *   Приведи правильные варианты ответов\n",
        "        *   Сразу начни генерировать тест, не нужно приводить никакие приветственные фразы\n",
        "        *   Я приведу шаблон, которому ты должен строго следовать:\n",
        "        **Шаблон:**\n",
        "        BOQ\n",
        "        <question number>. <question>\n",
        "        A) <option 1>\n",
        "        B) <option 2>\n",
        "        C) <option 3>\n",
        "        D) <option 4>\n",
        "\n",
        "        Answer:\n",
        "        Explanation:\n",
        "        EOQ\n",
        "\n",
        "        **Пример теста, соответствующий шаблону:**\n",
        "        BOQ\n",
        "        1. Кто должен проходить обучение в аккредитованной организации по охране труда?\n",
        "        A) Все работники без исключения.\n",
        "        B) Только руководители и специалисты по охране труда.\n",
        "        C) Минимум работников, зависящий от среднесписочной численности компании и категории риска.\n",
        "        D) Только работники, занятые на работах повышенной опасности.\n",
        "\n",
        "        Answer: C\n",
        "\n",
        "        Explanation:\n",
        "        Ответ A [неверен/верен], потому что [обоснование со ссылкой на НПА].\n",
        "        Ответ B [неверен/верен], потому что [обоснование со ссылкой на НПА].\n",
        "        Ответ C [неверен/верен], потому что [обоснование со ссылкой на НПА].\n",
        "        Ответ D [неверен/верен], потому что [обоснование со ссылкой на НПА].\n",
        "        EOQ\n",
        "\n",
        "        BOQ\n",
        "        2. Как часто проводится плановое обучение по охране труда для работников?\n",
        "        A) Раз в год.\n",
        "        B) Раз в три года.\n",
        "        C) Раз в пять лет.\n",
        "        D) По мере необходимости.\n",
        "\n",
        "        Answer: B\n",
        "\n",
        "        Explanation:\n",
        "        Ответ A [неверен/верен], потому что [обоснование со ссылкой на НПА].\n",
        "        Ответ B [неверен/верен], потому что [обоснование со ссылкой на НПА].\n",
        "        Ответ C [неверен/верен], потому что [обоснование со ссылкой на НПА].\n",
        "        Ответ D [неверен/верен], потому что [обоснование со ссылкой на НПА].\n",
        "        EOQ\n",
        "\n",
        "        ....\n",
        "\n",
        "        **В шаблоне BOQ означает \"beginning of question\", EOQ означает \"end of question\"\n",
        "\n",
        "    **Текст документа для анализа:**\n",
        "    {extracted_text}\n",
        "\n",
        "    \"\"\"\n",
        "\n",
        "    # Подготовка данных запроса\n",
        "    data = {\n",
        "        \"modelUri\": \"gpt://b1ghseujph70d1blspqm/yandexgpt\",\n",
        "        \"completionOptions\": {\n",
        "            \"stream\": False,\n",
        "            \"temperature\": 0.0,\n",
        "            \"maxTokens\": 5000\n",
        "        },\n",
        "        \"messages\": [\n",
        "            {\n",
        "                \"role\": \"system\",\n",
        "                \"text\": system_prompt\n",
        "            },\n",
        "            {\n",
        "                \"role\": \"user\",\n",
        "                \"text\": \"Сгенерируй тест на основе предоставленного документа.\"\n",
        "            }\n",
        "        ]\n",
        "    }\n",
        "\n",
        "\n",
        "    # Получение ответа от модели (убедитесь, что переменная token определена)\n",
        "    response = requests.post(\n",
        "        url,\n",
        "        headers={\"Authorization\": \"Bearer \" + token},\n",
        "        json=data\n",
        "    ).json()\n",
        "\n",
        "    # Извлечение и вывод результата\n",
        "    try:\n",
        "        generated_text = response['result']['alternatives'][0]['message']['text']\n",
        "        return parse_text(generated_text)\n",
        "        #print(generated_text)\n",
        "    except KeyError:\n",
        "        print(\"Ошибка в ответе API:\")\n",
        "        print(response)"
      ]
    },
    {
      "cell_type": "code",
      "execution_count": null,
      "id": "e7568df2-9ba0-4f17-8322-9f57fe3a5b48",
      "metadata": {
        "execution": {
          "iopub.execute_input": "2025-07-12T07:29:39.295296Z",
          "iopub.status.busy": "2025-07-12T07:29:39.293837Z",
          "iopub.status.idle": "2025-07-12T07:29:39.316376Z",
          "shell.execute_reply": "2025-07-12T07:29:39.315422Z",
          "shell.execute_reply.started": "2025-07-12T07:29:39.295255Z"
        },
        "tags": [],
        "id": "e7568df2-9ba0-4f17-8322-9f57fe3a5b48"
      },
      "outputs": [],
      "source": [
        "def json_to_markdown(json_data, topic) -> str:\n",
        "    markdown = [\n",
        "        \"# Тест по теме: \" + topic + \"\\n\",\n",
        "        \"**ФИО:** _____________________________________________________________\\n\"\n",
        "    ]\n",
        "\n",
        "    for item in json_data:\n",
        "        # Заголовок вопроса\n",
        "        markdown.append(f\"\\n### {item['number']}. {item['question']}\\n\")\n",
        "\n",
        "        # Варианты ответов\n",
        "        for letter, text in item['options'].items():\n",
        "            markdown.append(f\" **{letter}.** {text}\\n\")\n",
        "\n",
        "        # Разделитель после вопроса\n",
        "        #markdown.append(\"\\n---\")\n",
        "\n",
        "    return \"\\n\".join(markdown)"
      ]
    },
    {
      "cell_type": "code",
      "execution_count": null,
      "id": "6ac0410a-7d03-4465-b913-4b66e79be8a2",
      "metadata": {
        "execution": {
          "iopub.execute_input": "2025-07-12T07:29:39.319286Z",
          "iopub.status.busy": "2025-07-12T07:29:39.317980Z",
          "iopub.status.idle": "2025-07-12T07:29:42.361934Z",
          "shell.execute_reply": "2025-07-12T07:29:42.360856Z",
          "shell.execute_reply.started": "2025-07-12T07:29:39.319243Z"
        },
        "tags": [],
        "id": "6ac0410a-7d03-4465-b913-4b66e79be8a2",
        "outputId": "82688be3-6dc5-4367-e9d4-cc6e7c2fabfd"
      },
      "outputs": [
        {
          "name": "stdout",
          "output_type": "stream",
          "text": [
            "Defaulting to user installation because normal site-packages is not writeable\n",
            "Requirement already satisfied: pypandoc_binary in /home/jupyter/.local/lib/python3.10/site-packages (1.15)\n",
            "\n",
            "\u001b[1m[\u001b[0m\u001b[34;49mnotice\u001b[0m\u001b[1;39;49m]\u001b[0m\u001b[39;49m A new release of pip is available: \u001b[0m\u001b[31;49m23.0.1\u001b[0m\u001b[39;49m -> \u001b[0m\u001b[32;49m25.1.1\u001b[0m\n",
            "\u001b[1m[\u001b[0m\u001b[34;49mnotice\u001b[0m\u001b[1;39;49m]\u001b[0m\u001b[39;49m To update, run: \u001b[0m\u001b[32;49mpython3 -m pip install --upgrade pip\u001b[0m\n"
          ]
        }
      ],
      "source": [
        "%pip install pypandoc_binary"
      ]
    },
    {
      "cell_type": "code",
      "execution_count": null,
      "id": "7d172084-c169-4824-a3c1-1fb6e685c345",
      "metadata": {
        "execution": {
          "iopub.execute_input": "2025-07-12T07:29:42.364784Z",
          "iopub.status.busy": "2025-07-12T07:29:42.363773Z",
          "iopub.status.idle": "2025-07-12T07:29:42.379896Z",
          "shell.execute_reply": "2025-07-12T07:29:42.379030Z",
          "shell.execute_reply.started": "2025-07-12T07:29:42.364738Z"
        },
        "tags": [],
        "id": "7d172084-c169-4824-a3c1-1fb6e685c345"
      },
      "outputs": [],
      "source": [
        "import pypandoc\n",
        "import os\n",
        "\n",
        "def generate_docx(json, topic):\n",
        "    test_data = json[\"questions\"]  # Ваш JSON-массив с вопросами\n",
        "    markdown_test = json_to_markdown(test_data, topic)\n",
        "    with open(\"tmp.md\", \"w\", encoding=\"utf-8\") as f:\n",
        "        f.write(markdown_test)\n",
        "    outputfile = f\"/home/jupyter/datasphere/project/generated_tests/{topic}.docx\"\n",
        "    output = pypandoc.convert_file('tmp.md', 'docx', outputfile=outputfile)\n",
        "    os.remove(\"tmp.md\")\n",
        "    return outputfile"
      ]
    },
    {
      "cell_type": "code",
      "execution_count": null,
      "id": "3710a3d7-621f-434c-bcea-9606dc474630",
      "metadata": {
        "execution": {
          "iopub.execute_input": "2025-07-12T07:29:42.382634Z",
          "iopub.status.busy": "2025-07-12T07:29:42.381392Z",
          "iopub.status.idle": "2025-07-12T07:29:42.397852Z",
          "shell.execute_reply": "2025-07-12T07:29:42.397014Z",
          "shell.execute_reply.started": "2025-07-12T07:29:42.382602Z"
        },
        "tags": [],
        "id": "3710a3d7-621f-434c-bcea-9606dc474630"
      },
      "outputs": [],
      "source": [
        "def generate_suggestions(file_content, test_json):\n",
        "    global user_answers\n",
        "    # Промпт для генерации советов\n",
        "    system_prompt = f\"\"\"\n",
        "Ты - опытный преподаватель-наставник, который анализирует результаты тестов и дает персонализированные рекомендации ученикам.\n",
        "\n",
        "На основе следующих данных:\n",
        "1. Исходный учебный материал: {file_content}\n",
        "2. Структура теста: {test_json}\n",
        "3. Ответы ученика: {user_answers}\n",
        "\n",
        "Сгенерируй подробные рекомендации, соблюдая структуру:\n",
        "\n",
        "  Анализ результатов:\n",
        "- Укажи сильные стороны ученика (какие темы усвоены хорошо)\n",
        "- Выдели проблемные области (где допущено больше всего ошибок)\n",
        "- Проанализируй характер ошибок (повторяющиеся паттерны, если есть)\n",
        "- Говори с учеником вежливо, ты должен быть наставником-помощником\n",
        "\n",
        "  Персонализированные рекомендации:\n",
        "1. Для улучшения результатов:\n",
        "   - Конкретные темы для повторения (со ссылками на разделы материала)\n",
        "   - Типы заданий для тренировки\n",
        "   - Методы запоминания сложной информации\n",
        "\n",
        "2. Стратегия обучения:\n",
        "   - Оптимальный график занятий\n",
        "   - Эффективные методы подготовки\n",
        "   - Полезные дополнительные ресурсы\n",
        "\n",
        "3. Мотивационные советы:\n",
        "   - Как сохранить интерес к предмету\n",
        "   - Способы преодоления трудностей\n",
        "   - Поощрение прогресса\n",
        "\n",
        "  Дополнительные материалы:\n",
        "- Рекомендуй конкретные страницы/разделы из приложенного материала для повторения\n",
        "- Предложи аналогичные задачи для практики\n",
        "\n",
        "Формат вывода: Это будет отправлено в telegram в виде сообщения, учитывай соответствующий формат с четкой структурой и выделением ключевых моментов. Будь конкретным, дружелюбным и поддерживающим. Избегай общих фраз - все рекомендации должны основываться на фактических ответах ученика.\n",
        "Используй только следующие способы форматирования:\n",
        "В выводе не используй звездочки, решетки (*, **, #, ##, ###) для обозначения оглавлений. Это важно!\n",
        "\"\"\"\n",
        "\n",
        "    # Подготовка данных запроса\n",
        "    data = {\n",
        "        \"modelUri\": \"gpt://b1ghseujph70d1blspqm/yandexgpt\",\n",
        "        \"completionOptions\": {\n",
        "            \"stream\": False,\n",
        "            \"temperature\": 0.5,\n",
        "            \"maxTokens\": 5000\n",
        "        },\n",
        "        \"messages\": [\n",
        "            {\n",
        "                \"role\": \"system\",\n",
        "                \"text\": system_prompt\n",
        "            },\n",
        "            {\n",
        "                \"role\": \"user\",\n",
        "                \"text\": \"Сгенерируй персонализированные советы на основе моих результатов\"\n",
        "            }\n",
        "        ]\n",
        "    }\n",
        "\n",
        "    # Получение ответа от модели\n",
        "    response = requests.post(\n",
        "        url,\n",
        "        headers={\"Authorization\": \"Bearer \" + token},\n",
        "        json=data\n",
        "    ).json()\n",
        "\n",
        "    # Извлечение и вывод результата\n",
        "    try:\n",
        "        return response['result']['alternatives'][0]['message']['text'].replace(\"*\", \"\").replace(\"#\", \"\")\n",
        "    except KeyError:\n",
        "        print(\"Ошибка в ответе API:\", response)\n",
        "        return \"Не удалось сгенерировать рекомендации. Пожалуйста, попробуйте позже.\""
      ]
    },
    {
      "cell_type": "code",
      "execution_count": null,
      "id": "696cfcbc-f235-4825-8bb0-f96d155afb36",
      "metadata": {
        "execution": {
          "iopub.execute_input": "2025-07-12T07:29:42.400569Z",
          "iopub.status.busy": "2025-07-12T07:29:42.399168Z",
          "iopub.status.idle": "2025-07-12T07:29:45.396814Z",
          "shell.execute_reply": "2025-07-12T07:29:45.395813Z",
          "shell.execute_reply.started": "2025-07-12T07:29:42.400531Z"
        },
        "tags": [],
        "id": "696cfcbc-f235-4825-8bb0-f96d155afb36",
        "outputId": "9885339b-0f50-4f02-fcff-8036b34295d9"
      },
      "outputs": [
        {
          "name": "stdout",
          "output_type": "stream",
          "text": [
            "Defaulting to user installation because normal site-packages is not writeable\n",
            "Requirement already satisfied: pytelegrambotapi in /home/jupyter/.local/lib/python3.10/site-packages (4.27.0)\n",
            "Requirement already satisfied: requests in /usr/local/lib/python3.10/dist-packages (from pytelegrambotapi) (2.27.1)\n",
            "Requirement already satisfied: urllib3<1.27,>=1.21.1 in /usr/local/lib/python3.10/dist-packages (from requests->pytelegrambotapi) (1.26.16)\n",
            "Requirement already satisfied: certifi>=2017.4.17 in /usr/local/lib/python3.10/dist-packages (from requests->pytelegrambotapi) (2023.7.22)\n",
            "Requirement already satisfied: charset-normalizer~=2.0.0 in /usr/local/lib/python3.10/dist-packages (from requests->pytelegrambotapi) (2.0.12)\n",
            "Requirement already satisfied: idna<4,>=2.5 in /usr/local/lib/python3.10/dist-packages (from requests->pytelegrambotapi) (3.4)\n",
            "\n",
            "\u001b[1m[\u001b[0m\u001b[34;49mnotice\u001b[0m\u001b[1;39;49m]\u001b[0m\u001b[39;49m A new release of pip is available: \u001b[0m\u001b[31;49m23.0.1\u001b[0m\u001b[39;49m -> \u001b[0m\u001b[32;49m25.1.1\u001b[0m\n",
            "\u001b[1m[\u001b[0m\u001b[34;49mnotice\u001b[0m\u001b[1;39;49m]\u001b[0m\u001b[39;49m To update, run: \u001b[0m\u001b[32;49mpython3 -m pip install --upgrade pip\u001b[0m\n"
          ]
        }
      ],
      "source": [
        "%pip install pytelegrambotapi"
      ]
    },
    {
      "cell_type": "code",
      "execution_count": null,
      "id": "3296a31f-b7b8-4517-ae1a-2495b9c59afb",
      "metadata": {
        "execution": {
          "iopub.execute_input": "2025-07-12T07:29:45.401506Z",
          "iopub.status.busy": "2025-07-12T07:29:45.400423Z",
          "iopub.status.idle": "2025-07-12T07:29:45.436515Z",
          "shell.execute_reply": "2025-07-12T07:29:45.435560Z",
          "shell.execute_reply.started": "2025-07-12T07:29:45.401457Z"
        },
        "tags": [],
        "id": "3296a31f-b7b8-4517-ae1a-2495b9c59afb"
      },
      "outputs": [],
      "source": [
        "import telebot\n",
        "from telebot import types\n",
        "from telebot.types import ReplyKeyboardMarkup, KeyboardButton\n",
        "import os\n",
        "\n",
        "STATE=0\n",
        "TEACHERS_FOLDER = '/home/jupyter/datasphere/project/teachers files'\n",
        "user_answers=[]\n",
        "questions_dict={}\n",
        "\n",
        "if not os.path.exists(TEACHERS_FOLDER):\n",
        "    os.makedirs(TEACHERS_FOLDER)\n",
        "\n",
        "bot = telebot.TeleBot('your_key')\n",
        "\n",
        "def get_letters():\n",
        "    markup = ReplyKeyboardMarkup(row_width=2, resize_keyboard=True)\n",
        "\n",
        "    # Add buttons\n",
        "    item_a = KeyboardButton(\"A\")\n",
        "    item_b = KeyboardButton(\"B\")\n",
        "    item_c = KeyboardButton(\"C\")\n",
        "    item_d = KeyboardButton(\"D\")\n",
        "\n",
        "    markup.add(item_a, item_b, item_c, item_d)\n",
        "    return markup\n",
        "def get_file_names():\n",
        "    markup = ReplyKeyboardMarkup(row_width=2, resize_keyboard=True)\n",
        "\n",
        "    # Add buttons\n",
        "    for file_name in os.listdir('/home/jupyter/datasphere/project/teachers files'):\n",
        "        if not file_name.startswith('.'):\n",
        "            btn = KeyboardButton(file_name)\n",
        "            markup.add(btn)\n",
        "    return markup\n",
        "\n",
        "def ask_question(message, questions, index=0):\n",
        "    if index < len(questions):\n",
        "        question = questions[index]\n",
        "        options = [letter+\". \"+option for letter, option in zip(question['options'].keys(), question['options'].values())]\n",
        "        options = '\\n'.join(options)\n",
        "        bot.send_message(message.chat.id, str(question['number'])+'. '+question['question']+'\\n'+options, reply_markup=get_letters())\n",
        "\n",
        "        def handler(mes):\n",
        "            process_answer(mes, question['number'])\n",
        "            #Задаем следующий вопрос\n",
        "            ask_question(mes , questions, index + 1)\n",
        "\n",
        "        bot.register_next_step_handler_by_chat_id(message.chat.id, handler)\n",
        "    else:\n",
        "        #подводим итоги\n",
        "        check_test(message, questions)\n",
        "\n",
        "def process_answer_and_continue(message, questions, index):\n",
        "    process_answer(message, questions[index]['number'])\n",
        "\n",
        "    ask_question(message, questions, index + 1)\n",
        "\n",
        "def process_answer(message, question_index):\n",
        "    global user_answers\n",
        "    user_answers.append(message.text.lower())\n",
        "\n",
        "def check_test(message, questions):\n",
        "    user_errors=[]\n",
        "    global user_answers\n",
        "    global questions_dict\n",
        "    #user_errors=[i for i, ans in enumerate(questions) if user_answers == [q['answer'].lower() for q in questions]]\n",
        "    for user_ans, q in zip(user_answers, questions):\n",
        "        if q['answer'].lower()!=user_ans.lower():\n",
        "            user_errors.append(q['number']-1) #ИНДЕКСЫ ВОПРОСОВ\n",
        "\n",
        "    if user_errors:\n",
        "        end_mes = f\"Поздравляем, Вы завершили тест. Были допущены ошибки в вопросах: {', '.join(map(str, [x + 1 for x in user_errors]))}. Разбор ошибок:\"\n",
        "        explanations=[str(questions[i]['number'])+'. '+ f\" Правильный ответ: {questions[i]['answer']} \"+'\\n' +questions[i]['explanation'] for i in user_errors]\n",
        "\n",
        "        bot.send_message(message.chat.id, end_mes)\n",
        "        for expl in explanations:\n",
        "            bot.send_message(message.chat.id, expl)\n",
        "        global extracted_text\n",
        "        bot.send_message(message.chat.id, generate_suggestions(extracted_text, questions_dict))\n",
        "        bot.send_message(message.chat.id, 'До новых встреч! Для повтора отправьте /start')\n",
        "    else:\n",
        "        bot.send_message(message.chat.id, \"Поздравляем, Вы ответили верно на все вопросы! Для повтора отправьте /start\")\n",
        "\n",
        "@bot.message_handler(commands=[\"start\"])\n",
        "def start(m, res=False):\n",
        "    bot.send_message(m.chat.id, 'Бот запущен. Выберите тему теста. Генерация может занять некоторе время.', reply_markup=get_file_names())\n",
        "\n",
        "@bot.message_handler(content_types=[\"text\"])\n",
        "def handle_text(message):\n",
        "    global STATE\n",
        "    global questions_dict\n",
        "    global num_questions\n",
        "    if STATE==0:\n",
        "        file_name = message.text\n",
        "\n",
        "        questions_dict = generate_test(file_name, num_questions) #генерируем здесь словарь\n",
        "        questions = questions_dict['questions']\n",
        "        ask_question(message, questions)\n",
        "        STATE=1"
      ]
    },
    {
      "cell_type": "code",
      "execution_count": null,
      "id": "1f1df409-fb88-40d3-9cce-b39d1704e695",
      "metadata": {
        "execution": {
          "iopub.execute_input": "2025-07-12T07:29:45.440233Z",
          "iopub.status.busy": "2025-07-12T07:29:45.437798Z",
          "iopub.status.idle": "2025-07-12T07:34:15.297982Z",
          "shell.execute_reply": "2025-07-12T07:34:15.296854Z",
          "shell.execute_reply.started": "2025-07-12T07:29:45.440187Z"
        },
        "tags": [],
        "id": "1f1df409-fb88-40d3-9cce-b39d1704e695",
        "outputId": "fffd8269-4eb7-45e9-b3ed-807bdb278634"
      },
      "outputs": [
        {
          "name": "stderr",
          "output_type": "stream",
          "text": [
            "2025-07-12 07:30:09,087 - INFO - TextExtractor инициализирован. Оптимизация текста: включена\n",
            "2025-07-12 07:30:09,089 - INFO - Обработка файла /home/jupyter/datasphere/project/teachers files/Охрана труда в организации.docx (тип: .docx)\n",
            "2025-07-12 07:30:09,093 - INFO - Извлечение текста из DOCX...\n",
            "2025-07-12 07:30:09,120 - INFO - Оптимизация текста: удалено 51 лишних символов (0.2% сокращение)\n",
            "2025-07-12 07:30:09,121 - INFO - Извлечено текста: 31005 символов\n"
          ]
        }
      ],
      "source": [
        "bot.polling(none_stop=True, interval=0)"
      ]
    },
    {
      "cell_type": "code",
      "execution_count": null,
      "id": "5da5d4bf-cf24-4bfd-a156-de87b59f14b1",
      "metadata": {
        "id": "5da5d4bf-cf24-4bfd-a156-de87b59f14b1"
      },
      "outputs": [],
      "source": []
    }
  ],
  "metadata": {
    "kernelspec": {
      "display_name": "DataSphere Kernel",
      "language": "python",
      "name": "python3"
    },
    "language_info": {
      "codemirror_mode": {
        "name": "ipython",
        "version": 3
      },
      "file_extension": ".py",
      "mimetype": "text/x-python",
      "name": "python",
      "nbconvert_exporter": "python",
      "pygments_lexer": "ipython3",
      "version": "3.10.12"
    },
    "colab": {
      "provenance": []
    }
  },
  "nbformat": 4,
  "nbformat_minor": 5
}